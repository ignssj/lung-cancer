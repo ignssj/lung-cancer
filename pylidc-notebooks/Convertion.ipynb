{
 "cells": [
  {
   "cell_type": "code",
   "execution_count": 8,
   "id": "a6a2383f-17b8-4d02-94b1-e64341fe882d",
   "metadata": {},
   "outputs": [],
   "source": [
    "import numpy as np\n",
    "import matplotlib.pyplot as plt\n",
    "import pydicom\n",
    "from PIL import Image"
   ]
  },
  {
   "cell_type": "code",
   "execution_count": 17,
   "id": "faba7193-4c64-412d-ad1c-23e16303f7ff",
   "metadata": {},
   "outputs": [],
   "source": [
    "ds = pydicom.dcmread('/media/wanakin/10F30B0F27629E9E/manifest-1600709154662/LIDC-IDRI/LIDC-IDRI-0001/01-01-2000-NA-NA-35511/3000923.000000-NA-62357/1-1.dcm')\n",
    "\n",
    "new_image = ds.pixel_array.astype(float)"
   ]
  },
  {
   "cell_type": "code",
   "execution_count": 18,
   "id": "f201721a-1684-41e9-b29c-4cd498558205",
   "metadata": {},
   "outputs": [],
   "source": [
    "scaled_image = (np.maximum(new_image, 0) / new_image.max()) * 255.0"
   ]
  },
  {
   "cell_type": "code",
   "execution_count": 19,
   "id": "3a471083-d9d1-43fe-a84c-2ace4a1f8e6c",
   "metadata": {},
   "outputs": [],
   "source": [
    "scaled_image = np.uint8(scaled_image)\n",
    "final_image = Image.fromarray(scaled_image)"
   ]
  },
  {
   "cell_type": "code",
   "execution_count": 20,
   "id": "fb4cad4f-a46b-41eb-a24f-0862c2bb6e65",
   "metadata": {},
   "outputs": [],
   "source": [
    "final_image.show()"
   ]
  },
  {
   "cell_type": "code",
   "execution_count": 21,
   "id": "62e92110-3267-4c8a-9d10-9bc1dbfe549c",
   "metadata": {},
   "outputs": [],
   "source": [
    "final_image.save('image.jpg')\n",
    "final_image.save('image.png')"
   ]
  },
  {
   "cell_type": "code",
   "execution_count": null,
   "id": "7fbd4f71-1e5e-4371-b968-226e37aa7374",
   "metadata": {},
   "outputs": [],
   "source": []
  }
 ],
 "metadata": {
  "kernelspec": {
   "display_name": "Python 3 (ipykernel)",
   "language": "python",
   "name": "python3"
  },
  "language_info": {
   "codemirror_mode": {
    "name": "ipython",
    "version": 3
   },
   "file_extension": ".py",
   "mimetype": "text/x-python",
   "name": "python",
   "nbconvert_exporter": "python",
   "pygments_lexer": "ipython3",
   "version": "3.9.7"
  }
 },
 "nbformat": 4,
 "nbformat_minor": 5
}
